{
 "cells": [
  {
   "cell_type": "markdown",
   "id": "496c2122",
   "metadata": {},
   "source": [
    "# Python_Pandas"
   ]
  },
  {
   "cell_type": "markdown",
   "id": "e191b4f4",
   "metadata": {},
   "source": []
  }
 ],
 "metadata": {
  "language_info": {
   "name": "python"
  }
 },
 "nbformat": 4,
 "nbformat_minor": 5
}
